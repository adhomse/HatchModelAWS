{
 "cells": [
  {
   "cell_type": "code",
   "execution_count": 1,
   "metadata": {},
   "outputs": [],
   "source": [
    "\n",
    "import sagemaker\n",
    "from sagemaker import get_execution_role"
   ]
  },
  {
   "cell_type": "code",
   "execution_count": 2,
   "metadata": {},
   "outputs": [],
   "source": [
    "sagemaker_session = sagemaker.Session()"
   ]
  },
  {
   "cell_type": "code",
   "execution_count": 3,
   "metadata": {},
   "outputs": [],
   "source": [
    "# Get a SageMaker-compatible role used by this Notebook Instance.\n",
    "role = get_execution_role()"
   ]
  },
  {
   "cell_type": "code",
   "execution_count": 4,
   "metadata": {},
   "outputs": [
    {
     "data": {
      "text/plain": [
       "'arn:aws:iam::758687415209:role/service-role/AmazonSageMaker-ExecutionRole-20201029T162727'"
      ]
     },
     "execution_count": 4,
     "metadata": {},
     "output_type": "execute_result"
    }
   ],
   "source": [
    "role"
   ]
  },
  {
   "cell_type": "code",
   "execution_count": 5,
   "metadata": {},
   "outputs": [],
   "source": [
    "train_input = sagemaker_session.upload_data(\"data\")"
   ]
  },
  {
   "cell_type": "code",
   "execution_count": 6,
   "metadata": {},
   "outputs": [
    {
     "data": {
      "text/plain": [
       "'s3://sagemaker-us-east-2-758687415209/data'"
      ]
     },
     "execution_count": 6,
     "metadata": {},
     "output_type": "execute_result"
    }
   ],
   "source": [
    "\n",
    "train_input"
   ]
  },
  {
   "cell_type": "code",
   "execution_count": null,
   "metadata": {},
   "outputs": [],
   "source": []
  },
  {
   "cell_type": "code",
   "execution_count": 10,
   "metadata": {},
   "outputs": [
    {
     "name": "stderr",
     "output_type": "stream",
     "text": [
      "train_instance_type has been renamed in sagemaker>=2.\n",
      "See: https://sagemaker.readthedocs.io/en/stable/v2.html for details.\n",
      "train_instance_type has been renamed in sagemaker>=2.\n",
      "See: https://sagemaker.readthedocs.io/en/stable/v2.html for details.\n"
     ]
    }
   ],
   "source": [
    "from sagemaker.sklearn.estimator import SKLearn\n",
    "\n",
    "script_path = 'attemptPrediction.py'\n",
    "\n",
    "sklearn = SKLearn(\n",
    "    entry_point=script_path,\n",
    "    train_instance_type=\"ml.m4.xlarge\",\n",
    "    framework_version='0.20.0',\n",
    "role = role)"
   ]
  },
  {
   "cell_type": "code",
   "execution_count": 11,
   "metadata": {},
   "outputs": [
    {
     "name": "stdout",
     "output_type": "stream",
     "text": [
      "2020-11-05 13:39:47 Starting - Starting the training job...\n",
      "2020-11-05 13:39:49 Starting - Launching requested ML instances......\n",
      "2020-11-05 13:40:55 Starting - Preparing the instances for training...\n",
      "2020-11-05 13:41:41 Downloading - Downloading input data...\n",
      "2020-11-05 13:42:04 Training - Downloading the training image..\u001b[34m2020-11-05 13:42:24,467 sagemaker-containers INFO     Imported framework sagemaker_sklearn_container.training\u001b[0m\n",
      "\u001b[34m2020-11-05 13:42:24,470 sagemaker-containers INFO     No GPUs detected (normal if no gpus installed)\u001b[0m\n",
      "\u001b[34m2020-11-05 13:42:24,482 sagemaker_sklearn_container.training INFO     Invoking user training script.\u001b[0m\n",
      "\u001b[34m2020-11-05 13:42:24,721 sagemaker-containers INFO     Module attemptPrediction does not provide a setup.py. \u001b[0m\n",
      "\u001b[34mGenerating setup.py\u001b[0m\n",
      "\u001b[34m2020-11-05 13:42:24,722 sagemaker-containers INFO     Generating setup.cfg\u001b[0m\n",
      "\u001b[34m2020-11-05 13:42:24,722 sagemaker-containers INFO     Generating MANIFEST.in\u001b[0m\n",
      "\u001b[34m2020-11-05 13:42:24,722 sagemaker-containers INFO     Installing module with the following command:\u001b[0m\n",
      "\u001b[34m/miniconda3/bin/python -m pip install . \u001b[0m\n",
      "\u001b[34mProcessing /opt/ml/code\u001b[0m\n",
      "\u001b[34mBuilding wheels for collected packages: attemptPrediction\n",
      "  Building wheel for attemptPrediction (setup.py): started\n",
      "  Building wheel for attemptPrediction (setup.py): finished with status 'done'\n",
      "  Created wheel for attemptPrediction: filename=attemptPrediction-1.0.0-py2.py3-none-any.whl size=6676 sha256=e4b59d23175b16f64d67f83ba05428255ebb964ec5b3a2f3758d86ef153479c3\n",
      "  Stored in directory: /tmp/pip-ephem-wheel-cache-01mrzg5c/wheels/35/24/16/37574d11bf9bde50616c67372a334f94fa8356bc7164af8ca3\u001b[0m\n",
      "\u001b[34mSuccessfully built attemptPrediction\u001b[0m\n",
      "\u001b[34mInstalling collected packages: attemptPrediction\u001b[0m\n",
      "\u001b[34mSuccessfully installed attemptPrediction-1.0.0\u001b[0m\n",
      "\u001b[34m2020-11-05 13:42:26,152 sagemaker-containers INFO     No GPUs detected (normal if no gpus installed)\u001b[0m\n",
      "\u001b[34m2020-11-05 13:42:26,165 sagemaker-containers INFO     Invoking user script\n",
      "\u001b[0m\n",
      "\u001b[34mTraining Env:\n",
      "\u001b[0m\n",
      "\u001b[34m{\n",
      "    \"additional_framework_parameters\": {},\n",
      "    \"channel_input_dirs\": {\n",
      "        \"train\": \"/opt/ml/input/data/train\"\n",
      "    },\n",
      "    \"current_host\": \"algo-1\",\n",
      "    \"framework_module\": \"sagemaker_sklearn_container.training:main\",\n",
      "    \"hosts\": [\n",
      "        \"algo-1\"\n",
      "    ],\n",
      "    \"hyperparameters\": {},\n",
      "    \"input_config_dir\": \"/opt/ml/input/config\",\n",
      "    \"input_data_config\": {\n",
      "        \"train\": {\n",
      "            \"TrainingInputMode\": \"File\",\n",
      "            \"S3DistributionType\": \"FullyReplicated\",\n",
      "            \"RecordWrapperType\": \"None\"\n",
      "        }\n",
      "    },\n",
      "    \"input_dir\": \"/opt/ml/input\",\n",
      "    \"is_master\": true,\n",
      "    \"job_name\": \"sagemaker-scikit-learn-2020-11-05-13-39-47-233\",\n",
      "    \"log_level\": 20,\n",
      "    \"master_hostname\": \"algo-1\",\n",
      "    \"model_dir\": \"/opt/ml/model\",\n",
      "    \"module_dir\": \"s3://sagemaker-us-east-2-758687415209/sagemaker-scikit-learn-2020-11-05-13-39-47-233/source/sourcedir.tar.gz\",\n",
      "    \"module_name\": \"attemptPrediction\",\n",
      "    \"network_interface_name\": \"eth0\",\n",
      "    \"num_cpus\": 4,\n",
      "    \"num_gpus\": 0,\n",
      "    \"output_data_dir\": \"/opt/ml/output/data\",\n",
      "    \"output_dir\": \"/opt/ml/output\",\n",
      "    \"output_intermediate_dir\": \"/opt/ml/output/intermediate\",\n",
      "    \"resource_config\": {\n",
      "        \"current_host\": \"algo-1\",\n",
      "        \"hosts\": [\n",
      "            \"algo-1\"\n",
      "        ],\n",
      "        \"network_interface_name\": \"eth0\"\n",
      "    },\n",
      "    \"user_entry_point\": \"attemptPrediction.py\"\u001b[0m\n",
      "\u001b[34m}\n",
      "\u001b[0m\n",
      "\u001b[34mEnvironment variables:\n",
      "\u001b[0m\n",
      "\u001b[34mSM_HOSTS=[\"algo-1\"]\u001b[0m\n",
      "\u001b[34mSM_NETWORK_INTERFACE_NAME=eth0\u001b[0m\n",
      "\u001b[34mSM_HPS={}\u001b[0m\n",
      "\u001b[34mSM_USER_ENTRY_POINT=attemptPrediction.py\u001b[0m\n",
      "\u001b[34mSM_FRAMEWORK_PARAMS={}\u001b[0m\n",
      "\u001b[34mSM_RESOURCE_CONFIG={\"current_host\":\"algo-1\",\"hosts\":[\"algo-1\"],\"network_interface_name\":\"eth0\"}\u001b[0m\n",
      "\u001b[34mSM_INPUT_DATA_CONFIG={\"train\":{\"RecordWrapperType\":\"None\",\"S3DistributionType\":\"FullyReplicated\",\"TrainingInputMode\":\"File\"}}\u001b[0m\n",
      "\u001b[34mSM_OUTPUT_DATA_DIR=/opt/ml/output/data\u001b[0m\n",
      "\u001b[34mSM_CHANNELS=[\"train\"]\u001b[0m\n",
      "\u001b[34mSM_CURRENT_HOST=algo-1\u001b[0m\n",
      "\u001b[34mSM_MODULE_NAME=attemptPrediction\u001b[0m\n",
      "\u001b[34mSM_LOG_LEVEL=20\u001b[0m\n",
      "\u001b[34mSM_FRAMEWORK_MODULE=sagemaker_sklearn_container.training:main\u001b[0m\n",
      "\u001b[34mSM_INPUT_DIR=/opt/ml/input\u001b[0m\n",
      "\u001b[34mSM_INPUT_CONFIG_DIR=/opt/ml/input/config\u001b[0m\n",
      "\u001b[34mSM_OUTPUT_DIR=/opt/ml/output\u001b[0m\n",
      "\u001b[34mSM_NUM_CPUS=4\u001b[0m\n",
      "\u001b[34mSM_NUM_GPUS=0\u001b[0m\n",
      "\u001b[34mSM_MODEL_DIR=/opt/ml/model\u001b[0m\n",
      "\u001b[34mSM_MODULE_DIR=s3://sagemaker-us-east-2-758687415209/sagemaker-scikit-learn-2020-11-05-13-39-47-233/source/sourcedir.tar.gz\u001b[0m\n",
      "\u001b[34mSM_TRAINING_ENV={\"additional_framework_parameters\":{},\"channel_input_dirs\":{\"train\":\"/opt/ml/input/data/train\"},\"current_host\":\"algo-1\",\"framework_module\":\"sagemaker_sklearn_container.training:main\",\"hosts\":[\"algo-1\"],\"hyperparameters\":{},\"input_config_dir\":\"/opt/ml/input/config\",\"input_data_config\":{\"train\":{\"RecordWrapperType\":\"None\",\"S3DistributionType\":\"FullyReplicated\",\"TrainingInputMode\":\"File\"}},\"input_dir\":\"/opt/ml/input\",\"is_master\":true,\"job_name\":\"sagemaker-scikit-learn-2020-11-05-13-39-47-233\",\"log_level\":20,\"master_hostname\":\"algo-1\",\"model_dir\":\"/opt/ml/model\",\"module_dir\":\"s3://sagemaker-us-east-2-758687415209/sagemaker-scikit-learn-2020-11-05-13-39-47-233/source/sourcedir.tar.gz\",\"module_name\":\"attemptPrediction\",\"network_interface_name\":\"eth0\",\"num_cpus\":4,\"num_gpus\":0,\"output_data_dir\":\"/opt/ml/output/data\",\"output_dir\":\"/opt/ml/output\",\"output_intermediate_dir\":\"/opt/ml/output/intermediate\",\"resource_config\":{\"current_host\":\"algo-1\",\"hosts\":[\"algo-1\"],\"network_interface_name\":\"eth0\"},\"user_entry_point\":\"attemptPrediction.py\"}\u001b[0m\n",
      "\u001b[34mSM_USER_ARGS=[]\u001b[0m\n",
      "\u001b[34mSM_OUTPUT_INTERMEDIATE_DIR=/opt/ml/output/intermediate\u001b[0m\n",
      "\u001b[34mSM_CHANNEL_TRAIN=/opt/ml/input/data/train\u001b[0m\n",
      "\u001b[34mPYTHONPATH=/miniconda3/bin:/miniconda3/lib/python37.zip:/miniconda3/lib/python3.7:/miniconda3/lib/python3.7/lib-dynload:/miniconda3/lib/python3.7/site-packages\n",
      "\u001b[0m\n",
      "\u001b[34mInvoking script with the following command:\n",
      "\u001b[0m\n",
      "\u001b[34m/miniconda3/bin/python -m attemptPrediction\n",
      "\n",
      "\u001b[0m\n",
      "\u001b[34m/miniconda3/lib/python3.7/site-packages/sklearn/externals/joblib/externals/cloudpickle/cloudpickle.py:47: DeprecationWarning: the imp module is deprecated in favour of importlib; see the module's documentation for alternative uses\n",
      "  import imp\u001b[0m\n",
      "\u001b[34m(13827, 9)\n",
      "      Iter       Train Loss   Remaining Time \n",
      "         1           0.7413            0.37s\n",
      "         2           0.7345            0.37s\n",
      "         3           0.7289            0.36s\n",
      "         4           0.7222            0.36s\n",
      "         5           0.7167            0.35s\n",
      "         6           0.7131            0.35s\n",
      "         7           0.7075            0.35s\n",
      "         8           0.7046            0.34s\n",
      "         9           0.7009            0.34s\n",
      "        10           0.6984            0.34s\n",
      "        11           0.6940            0.34s\n",
      "        12           0.6920            0.33s\n",
      "        13           0.6884            0.33s\n",
      "        14           0.6852            0.32s\n",
      "        15           0.6830            0.32s\n",
      "        16           0.6815            0.32s\n",
      "        17           0.6805            0.31s\n",
      "        18           0.6781            0.31s\n",
      "        19           0.6765            0.31s\n",
      "        20           0.6749            0.31s\n",
      "        21           0.6711            0.32s\n",
      "        22           0.6702            0.32s\n",
      "        23           0.6690            0.32s\n",
      "        24           0.6671            0.32s\n",
      "        25           0.6663            0.32s\n",
      "        26           0.6654            0.32s\n",
      "        27           0.6645            0.32s\n",
      "        28           0.6620            0.32s\n",
      "        29           0.6612            0.32s\n",
      "        30           0.6597            0.32s\n",
      "        31           0.6592            0.31s\n",
      "        32           0.6585            0.31s\n",
      "        33           0.6565            0.31s\n",
      "        34           0.6558            0.31s\n",
      "        35           0.6546            0.30s\n",
      "        36           0.6529            0.30s\n",
      "        37           0.6520            0.29s\n",
      "        38           0.6506            0.29s\n",
      "        39           0.6483            0.29s\n",
      "        40           0.6478            0.28s\n",
      "        41           0.6456            0.28s\n",
      "        42           0.6448            0.28s\n",
      "        43           0.6442            0.27s\n",
      "        44           0.6431            0.27s\n",
      "        45           0.6425            0.26s\n",
      "        46           0.6415            0.26s\n",
      "        47           0.6409            0.26s\n",
      "        48           0.6405            0.25s\n",
      "        49           0.6395            0.25s\n",
      "        50           0.6375            0.25s\n",
      "        51           0.6373            0.24s\n",
      "        52           0.6364            0.24s\n",
      "        53           0.6356            0.24s\n",
      "        54           0.6348            0.23s\n",
      "        55           0.6335            0.23s\n",
      "        56           0.6333            0.23s\n",
      "        57           0.6327            0.23s\u001b[0m\n",
      "\u001b[34m        58           0.6325            0.22s\n",
      "        59           0.6317            0.22s\n",
      "        60           0.6309            0.22s\n",
      "        61           0.6293            0.21s\n",
      "        62           0.6277            0.21s\n",
      "        63           0.6266            0.21s\n",
      "        64           0.6258            0.21s\n",
      "        65           0.6252            0.20s\n",
      "        66           0.6241            0.20s\n",
      "        67           0.6237            0.20s\n",
      "        68           0.6222            0.19s\n",
      "        69           0.6216            0.19s\n",
      "        70           0.6203            0.19s\n",
      "        71           0.6198            0.18s\n",
      "        72           0.6195            0.18s\n",
      "        73           0.6192            0.18s\n",
      "        74           0.6187            0.17s\n",
      "        75           0.6180            0.17s\n",
      "        76           0.6176            0.17s\n",
      "        77           0.6162            0.17s\n",
      "        78           0.6155            0.16s\n",
      "        79           0.6143            0.16s\n",
      "        80           0.6134            0.16s\n",
      "        81           0.6126            0.15s\n",
      "        82           0.6124            0.15s\n",
      "        83           0.6114            0.15s\n",
      "        84           0.6098            0.15s\n",
      "        85           0.6092            0.14s\n",
      "        86           0.6088            0.14s\n",
      "        87           0.6081            0.14s\n",
      "        88           0.6076            0.13s\n",
      "        89           0.6064            0.13s\n",
      "        90           0.6059            0.13s\n",
      "        91           0.6056            0.13s\n",
      "        92           0.6054            0.12s\n",
      "        93           0.6049            0.12s\n",
      "        94           0.6040            0.12s\n",
      "        95           0.6032            0.12s\n",
      "        96           0.6027            0.11s\n",
      "        97           0.6021            0.11s\n",
      "        98           0.6001            0.11s\n",
      "        99           0.5990            0.10s\n",
      "       100           0.5976            0.10s\n",
      "       101           0.5975            0.10s\n",
      "       102           0.5971            0.10s\n",
      "       103           0.5966            0.09s\n",
      "       104           0.5964            0.09s\n",
      "       105           0.5960            0.09s\n",
      "       106           0.5956            0.09s\n",
      "       107           0.5948            0.08s\n",
      "       108           0.5941            0.08s\n",
      "       109           0.5939            0.08s\n",
      "       110           0.5920            0.08s\n",
      "       111           0.5917            0.07s\n",
      "       112           0.5911            0.07s\n",
      "       113           0.5907            0.07s\n",
      "       114           0.5903            0.07s\n",
      "       115           0.5894            0.06s\n",
      "       116           0.5887            0.06s\n",
      "       117           0.5880            0.06s\n",
      "       118           0.5876            0.06s\n",
      "       119           0.5873            0.05s\n",
      "       120           0.5866            0.05s\n",
      "       121           0.5861            0.05s\n",
      "       122           0.5859            0.05s\n",
      "       123           0.5856            0.04s\n",
      "       124           0.5855            0.04s\n",
      "       125           0.5840            0.04s\n",
      "       126           0.5836            0.03s\n",
      "       127           0.5827            0.03s\n",
      "       128           0.5815            0.03s\n",
      "       129           0.5810            0.03s\n",
      "       130           0.5808            0.02s\n",
      "       131           0.5796            0.02s\n",
      "       132           0.5791            0.02s\n",
      "       133           0.5788            0.02s\n",
      "       134           0.5781            0.01s\n",
      "       135           0.5773            0.01s\n",
      "       136           0.5770            0.01s\n",
      "       137           0.5767            0.01s\n",
      "       138           0.5761            0.00s\n",
      "       139           0.5756            0.00s\n",
      "       140           0.5754            0.00s\u001b[0m\n",
      "\u001b[34m[0.34275128 0.45482173 0.19966043 0.         0.         0.\n",
      " 0.         0.00276655]\u001b[0m\n",
      "\u001b[34mAccuracy on training data -->  23.26533664868471\u001b[0m\n",
      "\u001b[34mAccuracy -->  14.459762903095552\u001b[0m\n",
      "\u001b[34m2020-11-05 13:42:27,934 sagemaker-containers INFO     Reporting training SUCCESS\u001b[0m\n",
      "\n",
      "2020-11-05 13:42:36 Uploading - Uploading generated training model\n",
      "2020-11-05 13:42:36 Completed - Training job completed\n",
      "Training seconds: 55\n",
      "Billable seconds: 55\n"
     ]
    }
   ],
   "source": [
    "sklearn.fit({'train': train_input})\n"
   ]
  },
  {
   "cell_type": "code",
   "execution_count": 12,
   "metadata": {},
   "outputs": [
    {
     "name": "stdout",
     "output_type": "stream",
     "text": [
      "-------------!"
     ]
    }
   ],
   "source": [
    "deployment = sklearn.deploy(initial_instance_count=1, instance_type=\"ml.m4.xlarge\")"
   ]
  },
  {
   "cell_type": "code",
   "execution_count": 13,
   "metadata": {},
   "outputs": [
    {
     "name": "stderr",
     "output_type": "stream",
     "text": [
      "The endpoint attribute has been renamed in sagemaker>=2.\n",
      "See: https://sagemaker.readthedocs.io/en/stable/v2.html for details.\n"
     ]
    },
    {
     "data": {
      "text/plain": [
       "'sagemaker-scikit-learn-2020-11-05-13-43-05-036'"
      ]
     },
     "execution_count": 13,
     "metadata": {},
     "output_type": "execute_result"
    }
   ],
   "source": [
    "deployment.endpoint"
   ]
  },
  {
   "cell_type": "code",
   "execution_count": 14,
   "metadata": {},
   "outputs": [
    {
     "data": {
      "text/plain": [
       "array([1.3304689])"
      ]
     },
     "execution_count": 14,
     "metadata": {},
     "output_type": "execute_result"
    }
   ],
   "source": [
    "deployment.predict([[13609.0,927514.0,709021.0,4.0,5.0,2.0,1.0,2.0]])"
   ]
  },
  {
   "cell_type": "code",
   "execution_count": null,
   "metadata": {},
   "outputs": [],
   "source": []
  }
 ],
 "metadata": {
  "kernelspec": {
   "display_name": "conda_python3",
   "language": "python",
   "name": "conda_python3"
  },
  "language_info": {
   "codemirror_mode": {
    "name": "ipython",
    "version": 3
   },
   "file_extension": ".py",
   "mimetype": "text/x-python",
   "name": "python",
   "nbconvert_exporter": "python",
   "pygments_lexer": "ipython3",
   "version": "3.6.10"
  }
 },
 "nbformat": 4,
 "nbformat_minor": 4
}
